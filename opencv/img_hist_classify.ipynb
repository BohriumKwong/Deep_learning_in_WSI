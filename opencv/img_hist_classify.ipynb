{
 "cells": [
  {
   "cell_type": "code",
   "execution_count": 15,
   "metadata": {},
   "outputs": [],
   "source": [
    "from __future__ import division\n",
    "import numpy as np\n",
    "from PIL import Image\n",
    "import openslide as opsl\n",
    "import matplotlib.pyplot as plt\n",
    "import matplotlib.cm as cm\n",
    "from matplotlib.colors import LogNorm\n",
    "import progressbar\n",
    "from sklearn.cluster import KMeans\n",
    "from sklearn.externals import joblib\n",
    "from sklearn import neighbors\n",
    "import time\n",
    "import cv2\n",
    "import gc\n",
    "import os,sys\n",
    "import random\n",
    "sys.path.append('/cptjack/totem/StainTools/')\n",
    "from utils import visual_utils as vu\n",
    "from utils import misc_utils as mu\n",
    "from normalization.vahadane import VahadaneNormalizer"
   ]
  },
  {
   "cell_type": "code",
   "execution_count": 2,
   "metadata": {},
   "outputs": [],
   "source": [
    "def img_color_hist(folder_zero,bin_count):\n",
    "    dir_img = os.listdir(folder_zero+'/')\n",
    "#    file_num = sum([len(files) for root, dirs, files in os.walk(folder_zero)])\n",
    "    data = np.zeros((len(dir_img),bin_count,1,3))\n",
    "    p = progressbar.ProgressBar()\n",
    "    for i in p(range(len(dir_img))):\n",
    "        Img = cv2.imread(folder_zero+'/'+dir_img[i])\n",
    "        for j in range(3):\n",
    "            data[i,:,:,j] = cv2.calcHist([Img],[j],None,[bin_count],[0,256])\n",
    "    data = data.reshape(len(dir_img),bin_count*3)\n",
    "    return data"
   ]
  },
  {
   "cell_type": "code",
   "execution_count": 21,
   "metadata": {},
   "outputs": [],
   "source": [
    "def img_predict(folder_zero,bin_count,kmean_model,save_dir):\n",
    "    dir_img = dir_img = os.listdir(folder_zero+'/')\n",
    "    p = progressbar.ProgressBar()\n",
    "    for i in p(range(len(dir_img))):\n",
    "        data_test = np.zeros((1,bin_count,1,3))\n",
    "        Img_test = cv2.imread(folder_zero+'/'+dir_img[i])\n",
    "        for j in range(3):\n",
    "            data_test[0,:,:,j] = cv2.calcHist([Img_test],[j],None,[bin_count],[0,256])\n",
    "        data_test = data_test.reshape(1,bin_count*3)\n",
    "        label = kmean_model.predict(data_test)\n",
    "        if label==0:\n",
    "            sub_dir='0'\n",
    "        else:\n",
    "            sub_dir='1'\n",
    "        cv2.imwrite(save_dir+'/'+sub_dir+'/'+dir_img[i],Img_test)"
   ]
  },
  {
   "cell_type": "code",
   "execution_count": 23,
   "metadata": {},
   "outputs": [
    {
     "name": "stderr",
     "output_type": "stream",
     "text": [
      "100% (4708 of 4708) |####################| Elapsed Time: 0:00:43 Time:  0:00:43\n"
     ]
    }
   ],
   "source": [
    "if __name__ == '__main__':    \n",
    "    dir_zero = '/cptjack/totem/18738_in'\n",
    "    data = img_color_hist(dir_zero,128)\n",
    "    "
   ]
  },
  {
   "cell_type": "code",
   "execution_count": 4,
   "metadata": {},
   "outputs": [
    {
     "data": {
      "text/plain": [
       "(4708, 192)"
      ]
     },
     "execution_count": 4,
     "metadata": {},
     "output_type": "execute_result"
    }
   ],
   "source": [
    "    data.shape"
   ]
  },
  {
   "cell_type": "code",
   "execution_count": 24,
   "metadata": {},
   "outputs": [],
   "source": [
    "    if os.path.exists('/cptjack/totem/Colon Pathology/kmeans_model_128.m'):\n",
    "        k = joblib.load('/cptjack/totem/Colon Pathology/kmeans_model_128.m')\n",
    "    else:\n",
    "        k = KMeans(n_clusters=2,random_state=0,max_iter=4000,tol=0.00001,algorithm='full').fit(data)\n",
    "        joblib.dump(k,'/cptjack/totem/Colon Pathology/kmeans_model_128.m')    "
   ]
  },
  {
   "cell_type": "code",
   "execution_count": 25,
   "metadata": {},
   "outputs": [
    {
     "name": "stderr",
     "output_type": "stream",
     "text": [
      "100% (4708 of 4708) |####################| Elapsed Time: 0:00:16 Time:  0:00:16\n"
     ]
    }
   ],
   "source": [
    "    save_result_dir = '/cptjack/totem/18738_k_meas_test_128'\n",
    "    if not os.path.exists(save_result_dir):os.makedirs(save_result_dir)  \n",
    "    img_predict(dir_zero,128,k,save_result_dir)"
   ]
  },
  {
   "cell_type": "code",
   "execution_count": 11,
   "metadata": {},
   "outputs": [
    {
     "name": "stdout",
     "output_type": "stream",
     "text": [
      "18738__y11295_x17851_p1.png\n",
      "[0]\n"
     ]
    }
   ],
   "source": [
    "    dir_img = dir_img = os.listdir(dir_zero+'/')\n",
    "    data_test = np.zeros((1,64,1,3))\n",
    "    print(dir_img[1])\n",
    "    Img_test = cv2.imread(dir_zero+'/'+dir_img[1])\n",
    "    for j in range(3):\n",
    "        data_test[0,:,:,j] = cv2.calcHist([Img_test],[j],None,[64],[0,256])\n",
    "    data_test = data_test.reshape(1,64*3)\n",
    "    label = k.predict(data_test)\n",
    "    print(label)"
   ]
  },
  {
   "cell_type": "code",
   "execution_count": 14,
   "metadata": {},
   "outputs": [
    {
     "name": "stdout",
     "output_type": "stream",
     "text": [
      "done!\n"
     ]
    }
   ],
   "source": [
    "    if label==0:\n",
    "        print('done!')"
   ]
  }
 ],
 "metadata": {
  "kernelspec": {
   "display_name": "Python 3",
   "language": "python",
   "name": "python3"
  },
  "language_info": {
   "codemirror_mode": {
    "name": "ipython",
    "version": 3
   },
   "file_extension": ".py",
   "mimetype": "text/x-python",
   "name": "python",
   "nbconvert_exporter": "python",
   "pygments_lexer": "ipython3",
   "version": "3.6.4"
  }
 },
 "nbformat": 4,
 "nbformat_minor": 2
}
